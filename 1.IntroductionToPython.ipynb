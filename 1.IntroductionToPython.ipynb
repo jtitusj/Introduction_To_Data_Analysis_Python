{
 "cells": [
  {
   "cell_type": "markdown",
   "metadata": {
    "nbpresent": {
     "id": "014abbdb-b64e-43f3-82f9-9d14e5da99cc"
    }
   },
   "source": [
    "# Introduction to Programming in Python \n",
    "\n",
    "Welcome to the first part of our seminar-workshop.\n",
    "\n",
    "![Statistics Word Cloud](images/word_cloud.png)\n",
    "\n",
    "### Making The Most From This Workshop\n",
    "Here are some tips to improve learning from our activity.\n",
    "1. There are no stupid questions. **Ask.**\n",
    "2. **Be polite** when interacting with others inside the room.\n",
    "3. **Be curious.** Don't worry if your code breaks the first time. \n",
    "\n",
    "### Objectives\n",
    "To set our expectations, here's our objectives for this part of the discussion:\n",
    "1. Gain a conceptual background on the uses of Python\n",
    "2. Know the basic terms in Python Programming\n",
    "3. Learn about the Fundamentals of programming in Python\n",
    "\n",
    "### Any Questions?\n",
    "\n",
    "### Why do People Use Python\n",
    "1. Python code is designed to be **readable** and hence, **reusable and maintainable**. For many Python serves as an entry point for non-programmers to learn programming.\n",
    "2. Python **boosts productivity** of developers since python code is typical shorter compared to typed languages such as C, C++, and java. \n",
    "3. Python programs are **portable** across major operating systems like Windows, Linux and MacOS.\n",
    "4. Python supports a **large collection of libraries** for text-pattern matching, network programming, numerical programming and more..\n",
    "5. Python can **communicate with other programming languages**.\n",
    "\n",
    "### What's the Downside?\n",
    "1. Python's **execution speed** may not always be as fast as compiled languages. \n",
    "\n",
    "### Who Uses Python Today\n",
    "1. **Google**, for its web search systems. Also, Guido Von Rossum, the creator of Python works there.\n",
    "2. **Youtube**, for its video sharing service.\n",
    "3. **NASA**, for scientific programming tasks\n",
    "4. **JPMorgan**, for financial market forecasting\n",
    "5. **NSA**, for cryptography and intelligence\n",
    "6. **In Savvysherpa**, we use Python to develop algorithms for finding hidden features/patterns in the data, data visualization and predictive modelling.\n",
    "7. and many many more.."
   ]
  },
  {
   "cell_type": "markdown",
   "metadata": {},
   "source": [
    "## Installation\n",
    "\n",
    "When using Python for Data Analysis, it is necessary to use [Anaconda](https://www.continuum.io/)\n",
    "You can go directly to the download page found [here](https://www.continuum.io/downloads) and select the appropriate version for your computer. (I recommend that you choose the version with Python 3.5 since that's the latest version of Python and is highly optimized.) \n",
    "\n",
    "![Anaconda](images/anaconda.png)"
   ]
  },
  {
   "cell_type": "markdown",
   "metadata": {},
   "source": [
    "## Running Python using Jupyter Notebook\n",
    "\n",
    "To open the notebooks, go to your **terminal** or **command prompt**, go to the directory you want to work in and type \n",
    "\n",
    "```\n",
    "jupyter notebook\n",
    "```\n",
    "\n",
    "This will fire up the notebook. Which would look like this one."
   ]
  },
  {
   "cell_type": "markdown",
   "metadata": {},
   "source": [
    "## Your First Python Code!\n",
    "\n",
    "Now that you know some conceptual background in Python, let's know take a dive into python."
   ]
  },
  {
   "cell_type": "code",
   "execution_count": 1,
   "metadata": {
    "collapsed": false
   },
   "outputs": [
    {
     "name": "stdout",
     "output_type": "stream",
     "text": [
      "This is my first python code!\n",
      "easier than expected!\n"
     ]
    }
   ],
   "source": [
    "print(\"This is my first python code!\")\n",
    "print(\"easier than expected!\")"
   ]
  },
  {
   "cell_type": "markdown",
   "metadata": {},
   "source": [
    "Great job! You've just made your first Python code! Let's explain what you just did.\n",
    "\n",
    "1. First, you used the **build-in function** `print()`. Python has several build-in functions that you can use. Because of Python's emphasis on readability and making code as intuitive as possible, functions are named depending on what they do. In the case of the `print` function, it prints, whatever is placed inside the parenthesis.\n",
    "\n",
    "2. Second, what is written inside the print function is called the **function argument or parameter**. In the case of our example, the parameter is a **string**.\n",
    "\n",
    "We will learn more about functions later on."
   ]
  },
  {
   "cell_type": "markdown",
   "metadata": {},
   "source": [
    "## Comments\n",
    "\n",
    "In programming languages, comments are used to describe and/or explain what a certain piece of code does.  \n",
    "In python, there are two ways of creating a comment:\n",
    "\n",
    "1. **Single Line Comment** - This can be done by typing a '#' at the beginning of the text. We usually use this for short and quick comments.\n",
    "2. **Multiple Line Comments** - When we need to write a more detailed explanation about our code, this is what we use. The syntax is to enclose your message with ''' '''.\n",
    "\n",
    "```python\n",
    "# this is a single line comment\n",
    "\n",
    "'''\n",
    "    This is a multiple line comment.\n",
    "    If you want to write longer comments, you can use this one.\n",
    "'''\n",
    "\n",
    "# print(\"Hello World!\")\n",
    "```"
   ]
  },
  {
   "cell_type": "markdown",
   "metadata": {
    "collapsed": true
   },
   "source": [
    "## Data Types\n",
    "\n",
    "1. **Strings** - basically, strings are anything that you enclose with either *\"\"* or *''*.\n",
    "Examples: \n",
    "    1. \"This is a string.\"\n",
    "    2. 'This is a string enclosed by single quotations.'\n",
    "    3. '434536'. Yes, even if it is a number, once it is enclosed by either single or double quotations, it becomes a string.\n",
    "    \n",
    "2. **Numbers** - in python, numbers are classified in a straightforward manner as follows:\n",
    "    1. **integers**: numbers without a fractional part. (Example: 1, 2, -1, 12425, 1629)\n",
    "    2. **floating-point numbers**: basically, numbers with fractional parts.  (Example: 1.0, 0.0, 3.14, ...)\n",
    "    3. The two above are the more common number types but python also has other number types such as **\"long integers\"** and **complex numbers**. In our discussions, later on, we will mostly deal only with integers and floating-point numbers.\n",
    "    \n",
    "3. **Lists** - as the name suggests, lists are collections of objects which can be modified. We will discuss more about lists in a separate section later.\n",
    "4. **Dictionaries** - dictionaries acts similar to a usual dictionary. In a dictionary, your have a word and a description of that word. In a python dictionary, instead of a word, you have a **key** and instead of a description, you have a **value** that corresponds to the given key. We will also discuss this further later on.\n",
    "5. **Other Data Types**: files, sets, tuples, None, Booleans...\n",
    "\n",
    "To identify the data types, python has a built-in function named `type()`."
   ]
  },
  {
   "cell_type": "code",
   "execution_count": 2,
   "metadata": {
    "collapsed": true
   },
   "outputs": [],
   "source": [
    "# Print your own example of a string\n"
   ]
  },
  {
   "cell_type": "code",
   "execution_count": 3,
   "metadata": {
    "collapsed": true
   },
   "outputs": [],
   "source": [
    "# Print a floating point number\n"
   ]
  },
  {
   "cell_type": "code",
   "execution_count": 4,
   "metadata": {
    "collapsed": false
   },
   "outputs": [
    {
     "data": {
      "text/plain": [
       "str"
      ]
     },
     "execution_count": 4,
     "metadata": {},
     "output_type": "execute_result"
    }
   ],
   "source": [
    "# using type\n",
    "type(\"is this a string?\")"
   ]
  },
  {
   "cell_type": "code",
   "execution_count": 5,
   "metadata": {
    "collapsed": false
   },
   "outputs": [
    {
     "data": {
      "text/plain": [
       "float"
      ]
     },
     "execution_count": 5,
     "metadata": {},
     "output_type": "execute_result"
    }
   ],
   "source": [
    "type(1.0)"
   ]
  },
  {
   "cell_type": "code",
   "execution_count": 6,
   "metadata": {
    "collapsed": false
   },
   "outputs": [
    {
     "data": {
      "text/plain": [
       "int"
      ]
     },
     "execution_count": 6,
     "metadata": {},
     "output_type": "execute_result"
    }
   ],
   "source": [
    "type(7)"
   ]
  },
  {
   "cell_type": "markdown",
   "metadata": {},
   "source": [
    "## Variables\n",
    "\n",
    "The purpose of variables is to store values such as strings and numbers so that we can use them later on in our code.\n",
    "As an example, let's **assign** the string *\"This is my first python code!\"* to a variable."
   ]
  },
  {
   "cell_type": "code",
   "execution_count": 1,
   "metadata": {
    "collapsed": true
   },
   "outputs": [],
   "source": [
    "# Assign a string to a variable\n",
    "a = \"This is my first python code!\""
   ]
  },
  {
   "cell_type": "code",
   "execution_count": 2,
   "metadata": {
    "collapsed": false
   },
   "outputs": [
    {
     "data": {
      "text/plain": [
       "'This is my first python code!'"
      ]
     },
     "execution_count": 2,
     "metadata": {},
     "output_type": "execute_result"
    }
   ],
   "source": [
    "a"
   ]
  },
  {
   "cell_type": "markdown",
   "metadata": {},
   "source": [
    "We can then use the variable **a** later on. Let's try using it in a print statement! "
   ]
  },
  {
   "cell_type": "code",
   "execution_count": 8,
   "metadata": {
    "collapsed": false
   },
   "outputs": [
    {
     "name": "stdout",
     "output_type": "stream",
     "text": [
      "This is my first python code!\n"
     ]
    }
   ],
   "source": [
    "# printing the value of a variable\n",
    "print(a)"
   ]
  },
  {
   "cell_type": "markdown",
   "metadata": {},
   "source": [
    "What is the output of the print function?\n",
    "Yes, you are right. The output is exactly the string that we assigned to the variable a.\n",
    "\n",
    "Now, try storing a value to a variable and print it."
   ]
  },
  {
   "cell_type": "code",
   "execution_count": 9,
   "metadata": {
    "collapsed": true
   },
   "outputs": [],
   "source": [
    "# Store a value to a variable and print it.\n"
   ]
  },
  {
   "cell_type": "markdown",
   "metadata": {},
   "source": [
    "Good Job!"
   ]
  },
  {
   "cell_type": "markdown",
   "metadata": {},
   "source": [
    "## Arithmetic Operators\n",
    "\n",
    "Just like in algebra, Python supports the basic operations of **addition (+)**, **subtraction (-)**, **multiplication (\\*)**, and **division (\\\\)** together with other operations: **modulo division (%)**, **exponentiation (\\*\\*)** and **floor division (//)**"
   ]
  },
  {
   "cell_type": "code",
   "execution_count": 10,
   "metadata": {
    "collapsed": false
   },
   "outputs": [
    {
     "data": {
      "text/plain": [
       "6"
      ]
     },
     "execution_count": 10,
     "metadata": {},
     "output_type": "execute_result"
    }
   ],
   "source": [
    "# addition\n",
    "1 + 5"
   ]
  },
  {
   "cell_type": "code",
   "execution_count": 11,
   "metadata": {
    "collapsed": false
   },
   "outputs": [
    {
     "data": {
      "text/plain": [
       "2.0"
      ]
     },
     "execution_count": 11,
     "metadata": {},
     "output_type": "execute_result"
    }
   ],
   "source": [
    "# subtraction\n",
    "4.5 - 2.5"
   ]
  },
  {
   "cell_type": "code",
   "execution_count": 12,
   "metadata": {
    "collapsed": false
   },
   "outputs": [
    {
     "data": {
      "text/plain": [
       "18"
      ]
     },
     "execution_count": 12,
     "metadata": {},
     "output_type": "execute_result"
    }
   ],
   "source": [
    "# multiplication\n",
    "3 * 6"
   ]
  },
  {
   "cell_type": "code",
   "execution_count": 13,
   "metadata": {
    "collapsed": false
   },
   "outputs": [
    {
     "data": {
      "text/plain": [
       "2.8"
      ]
     },
     "execution_count": 13,
     "metadata": {},
     "output_type": "execute_result"
    }
   ],
   "source": [
    "# division\n",
    "14 / 5"
   ]
  },
  {
   "cell_type": "code",
   "execution_count": 14,
   "metadata": {
    "collapsed": false
   },
   "outputs": [
    {
     "data": {
      "text/plain": [
       "1"
      ]
     },
     "execution_count": 14,
     "metadata": {},
     "output_type": "execute_result"
    }
   ],
   "source": [
    "# modulo division\n",
    "9 % 4"
   ]
  },
  {
   "cell_type": "code",
   "execution_count": 15,
   "metadata": {
    "collapsed": false
   },
   "outputs": [
    {
     "data": {
      "text/plain": [
       "81"
      ]
     },
     "execution_count": 15,
     "metadata": {},
     "output_type": "execute_result"
    }
   ],
   "source": [
    "# exponentiation\n",
    "3 ** 4"
   ]
  },
  {
   "cell_type": "code",
   "execution_count": 4,
   "metadata": {
    "collapsed": false
   },
   "outputs": [
    {
     "data": {
      "text/plain": [
       "4"
      ]
     },
     "execution_count": 4,
     "metadata": {},
     "output_type": "execute_result"
    }
   ],
   "source": [
    "# floor division\n",
    "int(14.8 // 3)"
   ]
  },
  {
   "cell_type": "code",
   "execution_count": 17,
   "metadata": {
    "collapsed": false
   },
   "outputs": [
    {
     "data": {
      "text/plain": [
       "'\\nNow go ahead and try it!\\nYou can also store the values to variables and perform the operations on the variables.\\nYou can also play around with the print statement.\\n'"
      ]
     },
     "execution_count": 17,
     "metadata": {},
     "output_type": "execute_result"
    }
   ],
   "source": [
    "\"\"\"\n",
    "Now go ahead and try it!\n",
    "You can also store the values to variables and perform the operations on the variables.\n",
    "You can also play around with the print statement.\n",
    "\"\"\"\n",
    "# do it here"
   ]
  },
  {
   "cell_type": "markdown",
   "metadata": {},
   "source": [
    "## Conditionals\n",
    "\n",
    "Conditional statements or conditional constructs are used to perform different computations or actions depending on whether a condition evaluates to true or false. The general syntax looks like this:\n",
    "\n",
    "```python\n",
    "if condition1:\n",
    "    statement1\n",
    "elif condition2:\n",
    "    statement2\n",
    "else:\n",
    "    statement3\n",
    "```"
   ]
  },
  {
   "cell_type": "code",
   "execution_count": 6,
   "metadata": {
    "collapsed": false
   },
   "outputs": [
    {
     "name": "stdout",
     "output_type": "stream",
     "text": [
      "You are an adult!\n"
     ]
    }
   ],
   "source": [
    "# are you an adult?\n",
    "age = 25\n",
    "\n",
    "\n",
    "# Note that python uses 1 tab for spacing.\n",
    "if age < 18:print(\"You are a minor.\")\n",
    "else: print(\"You are an adult!\")"
   ]
  },
  {
   "cell_type": "code",
   "execution_count": 7,
   "metadata": {
    "collapsed": false
   },
   "outputs": [
    {
     "name": "stdout",
     "output_type": "stream",
     "text": [
      "you are a woman\n"
     ]
    }
   ],
   "source": [
    "age = 18\n",
    "gender = 'female'\n",
    "\n",
    "if gender == 'female':\n",
    "    if age < 18:\n",
    "        print('you are a girl')\n",
    "    else:\n",
    "        print('you are a woman')\n",
    "elif gender == 'male':\n",
    "    if age < 18:\n",
    "        print('you are a boy')\n",
    "    else:\n",
    "        print('you are a man')\n",
    "else: \n",
    "    print('others')"
   ]
  },
  {
   "cell_type": "code",
   "execution_count": 9,
   "metadata": {
    "collapsed": false
   },
   "outputs": [
    {
     "name": "stdout",
     "output_type": "stream",
     "text": [
      "you are a man\n"
     ]
    }
   ],
   "source": [
    "age = 18\n",
    "gender = 'male'\n",
    "\n",
    "if gender == 'female':\n",
    "    if age < 18:\n",
    "        print('you are a girl')\n",
    "    else:\n",
    "        print('you are a woman')\n",
    "else: \n",
    "    if age < 18:\n",
    "        print('you are a boy')\n",
    "    else:\n",
    "        print('you are a man')"
   ]
  },
  {
   "cell_type": "code",
   "execution_count": 19,
   "metadata": {
    "collapsed": true
   },
   "outputs": [],
   "source": [
    "# another example, this time using elif\n",
    "\n",
    "# give me a situation..."
   ]
  },
  {
   "cell_type": "markdown",
   "metadata": {},
   "source": [
    "### Functions\n",
    "\n",
    "Earlier you have seen the `print` function which is a built-in function. Now, let's take a look at how we can create our own functions.\n",
    "\n",
    "The general syntax looks like this:\n",
    "\n",
    "```python\n",
    "def function1(param1, param2, ...):\n",
    "    \"\"\"\n",
    "    You can add some descriptions about the function here.\n",
    "    \n",
    "    Parameters\n",
    "    ----------\n",
    "      param1: description of param1\n",
    "      param2: description of param2\n",
    "      ... and so on\n",
    "    Returns\n",
    "    ----------\n",
    "      result: description of result\n",
    "    \"\"\"\n",
    "    statements\n",
    "    return result\n",
    "```"
   ]
  },
  {
   "cell_type": "code",
   "execution_count": 12,
   "metadata": {
    "collapsed": true
   },
   "outputs": [],
   "source": [
    "# function example: addition\n",
    "def addition(a, b):\n",
    "    \"\"\"\n",
    "    Gets the sum of two numbers.\n",
    "    \n",
    "    Parameters\n",
    "    ----------\n",
    "      a: a numerical data\n",
    "      b: a numerical data\n",
    "    Returns\n",
    "    ----------\n",
    "      sum_: the sum\n",
    "    \"\"\"\n",
    "    sum_ = a + b\n",
    "    return sum_"
   ]
  },
  {
   "cell_type": "code",
   "execution_count": 13,
   "metadata": {
    "collapsed": false
   },
   "outputs": [
    {
     "data": {
      "text/plain": [
       "10"
      ]
     },
     "execution_count": 13,
     "metadata": {},
     "output_type": "execute_result"
    }
   ],
   "source": [
    "addition(4,6)"
   ]
  },
  {
   "cell_type": "markdown",
   "metadata": {},
   "source": [
    "For simpler functions, like the `addition` function we made above, we can simplify the code in several ways:\n",
    "\n",
    "(1) Instead of assigning the result of `a + b` into the variable `sum_`, we can simply return `a + b` right away.\n",
    "\n",
    "```python\n",
    "def addition2(a, b):\n",
    "    return a + b\n",
    "```\n",
    "\n",
    "(2) If the function can fit into one line, we can also do that.\n",
    "\n",
    "```python\n",
    "def addition3(a, b): return a + b\n",
    "```\n",
    "\n",
    "Take note that the **docstring** is not required but is a recommended part to explain what your function does especially when it performs more complex processes.\n",
    "\n",
    "Also, functions does not necessary need to have arguments/parameters. Example:\n",
    "\n",
    "```python\n",
    "def function2():\n",
    "    \"\"\"This function prints a fixed string.\"\"\"\n",
    "    print(\"a fixed string\") # this function does not need a return statement\n",
    "```\n",
    "\n",
    "Finally, if you want to have a temporary place holder for a function but you don't want to implement it yet. You can use the keyword `pass`. Example:\n",
    "\n",
    "```python\n",
    "def function3(a, b):\n",
    "    \"\"\"\n",
    "        This function performs some advanced computation that I am still learning. \n",
    "        I will just use a temporary place holder that I can implement later.\n",
    "    \"\"\"\n",
    "    pass\n",
    "```"
   ]
  },
  {
   "cell_type": "code",
   "execution_count": 22,
   "metadata": {
    "collapsed": false
   },
   "outputs": [
    {
     "data": {
      "text/plain": [
       "'\\nExercises:\\n\\n1. Create a function that computes the difference between two numbers and call it difference().\\n2. Create a function that computes the product between two numbers and call it product().\\n3. (Challenge) Create a function that computes the quotient and remainder when dividing two numbers.\\n'"
      ]
     },
     "execution_count": 22,
     "metadata": {},
     "output_type": "execute_result"
    }
   ],
   "source": [
    "\"\"\"\n",
    "Exercises:\n",
    "\n",
    "1. Create a function that computes the difference between two numbers and call it difference().\n",
    "2. Create a function that computes the product between two numbers and call it product().\n",
    "3. (Challenge) Create a function that computes the quotient and remainder when dividing two numbers.\n",
    "\"\"\""
   ]
  },
  {
   "cell_type": "markdown",
   "metadata": {},
   "source": [
    "### Loops\n",
    "The idea of loops is simple, you have to loop over or iterate over a certain piece of code for a certain number of times.\n",
    "\n",
    "We will begin with the two basic methods for doing loops namely the **for loop** and the **while loop**. Later, when we discuss about lists, we will further expand this idea.\n",
    "\n",
    "#### For Loops\n",
    "Let's take an example.\n",
    "\n",
    "```python\n",
    "for i in range(1,5):\n",
    "    print(i)\n",
    "```\n",
    "\n",
    "In this piece of code, we introduced two elements in Python. One is the **for loop** and the other one is the **range** function. Let's examine the range function first. Add an empty cell below and type `range?` in it.\n",
    "\n",
    "In layman's term, what we just did is **\"For each number i from 1 up to 5, print the number i.\"**\n",
    "\n",
    "In General, the syntax looks like this:\n",
    "```python\n",
    "for var in iterator:\n",
    "    perform task here\n",
    "```"
   ]
  },
  {
   "cell_type": "code",
   "execution_count": 23,
   "metadata": {
    "collapsed": false
   },
   "outputs": [
    {
     "name": "stdout",
     "output_type": "stream",
     "text": [
      "1\n",
      "2\n",
      "3\n",
      "4\n"
     ]
    }
   ],
   "source": [
    "for i in range(1,5):\n",
    "    print(i)"
   ]
  },
  {
   "cell_type": "code",
   "execution_count": 24,
   "metadata": {
    "collapsed": true
   },
   "outputs": [],
   "source": [
    "# example of using for loops in a function.\n",
    "def summation(start, end):\n",
    "    \"\"\"\n",
    "    A function for getting the summation of integers.\n",
    "    \n",
    "    Parameters\n",
    "    ----------\n",
    "    start: integer, starting number\n",
    "    end: integer, last number to be added\n",
    "    \n",
    "    Return\n",
    "    ----------\n",
    "    sum_: integer, the summation of the numbers from start to end, including end.\n",
    "    \"\"\"\n",
    "    sum_ = 0 # set initial sum to 0\n",
    "    for i in range(start, end + 1):\n",
    "        sum_ += i # this statement is equal to doing sum_ = sum_ + 1\n",
    "    return sum_"
   ]
  },
  {
   "cell_type": "code",
   "execution_count": 25,
   "metadata": {
    "collapsed": false,
    "scrolled": false
   },
   "outputs": [
    {
     "data": {
      "text/plain": [
       "10"
      ]
     },
     "execution_count": 25,
     "metadata": {},
     "output_type": "execute_result"
    }
   ],
   "source": [
    "summation(1,4)"
   ]
  },
  {
   "cell_type": "markdown",
   "metadata": {},
   "source": [
    "#### While Loops\n",
    "Let's start with an example.\n",
    "```python\n",
    "a = 0\n",
    "while a < 10:\n",
    "    print(a)\n",
    "    a += 1\n",
    "```\n",
    "The code above looks pretty interpretable. In layman's term, it says **\"Starting with a = 0, while a is less than 10, print a\"**. Simple enough right?\n",
    "\n",
    "In general, the syntax looks like this:\n",
    "\n",
    "```python\n",
    "while condition1:\n",
    "    statement\n",
    "```\n",
    "\n",
    "Warning: always make sure that your while loop terminates!\n",
    "(This part will be very annoying so let me just demonstrate it to you.)\n",
    "\n",
    "```python\n",
    "a = 0\n",
    "while a < 10:\n",
    "    print(a)\n",
    "```\n",
    "\n",
    "If you notice in the code, we forgot to add the statement `a += 1`. Because of that, `a` is always equal to 0 and therefore, the condition always holds. So always be careful when using while loops!"
   ]
  },
  {
   "cell_type": "markdown",
   "metadata": {},
   "source": [
    "### Lists\n",
    "A list is a data structure in python that allows you to store multiple objects together. Let's start by creating our very own list.\n",
    "\n",
    "```python\n",
    "myList = [1,2,3,4,5,6] # to declare a list, just enclose the objects using brackets.\n",
    "```\n",
    "\n",
    "Now, you can access the elements in the list by **indexing**. For example, if you want to get the *ith* element in a list, just do `myList[i]`. Take note that Python indexing starts at 0. so `myList[0] = 1`"
   ]
  },
  {
   "cell_type": "code",
   "execution_count": 26,
   "metadata": {
    "collapsed": false
   },
   "outputs": [
    {
     "data": {
      "text/plain": [
       "1"
      ]
     },
     "execution_count": 26,
     "metadata": {},
     "output_type": "execute_result"
    }
   ],
   "source": [
    "myList = [1,2,3,4,5,6]\n",
    "myList[0]"
   ]
  },
  {
   "cell_type": "markdown",
   "metadata": {},
   "source": [
    "Also, one property of lists is that they are iterables. Meaning, you can iterate over them using loops!\n",
    "Examples:\n",
    "\n",
    "```python\n",
    "for i in myList:\n",
    "    print(i)\n",
    "```"
   ]
  },
  {
   "cell_type": "markdown",
   "metadata": {},
   "source": [
    "#### Common List Methods\n",
    "There are several methods for lists. Here are the most commonly used:\n",
    "1. `.append(value)` - adds the value to the end of the list\n",
    "2. `.reverse()` - reverses the elements in the list\n",
    "3. `.sort()` - sorts the list alphabetically or numerically both in ascending order"
   ]
  },
  {
   "cell_type": "code",
   "execution_count": 14,
   "metadata": {
    "collapsed": true
   },
   "outputs": [],
   "source": [
    "\"\"\"\n",
    "Exercise: Create a function that computes the mean of the values found inside a list. \n",
    "Follow the template function below.\n",
    "Hint(s): \n",
    "  1. Use the built-in function `len` to determine the total number of elements in the list.\n",
    "\n",
    "Example: len([1,6,3,7,8]) = 5\n",
    "\"\"\"\n",
    "def mean(lst):\n",
    "    \"\"\"\n",
    "    Computes the average of values from a given list.\n",
    "    \n",
    "    Parameters\n",
    "    ----------\n",
    "    lst: a list of numerical values\n",
    "    \n",
    "    Returns\n",
    "    m: float, the average value\n",
    "    \"\"\"\n",
    "    return sum(lst) / len(lst)\n",
    "    #pass"
   ]
  },
  {
   "cell_type": "code",
   "execution_count": 15,
   "metadata": {
    "collapsed": true
   },
   "outputs": [],
   "source": [
    "len?"
   ]
  },
  {
   "cell_type": "markdown",
   "metadata": {},
   "source": [
    "### Dictionaries\n",
    "As mentioned earlier, dictionaries have keys that have corresponding values. Let's take a look at what a python dictionary looks like.\n",
    "\n",
    "```python\n",
    "myDictionary = {'key1': 'value1', 'key2': 'value2', 'key3': 'value3'}\n",
    "```\n",
    "\n",
    "To use it, type `myDictionary['key2']` and it will give you `value2`\n",
    "\n",
    "To add a new key, value pair into the dictionary, you can do `myDictionary['key4'] = 'value4'`.\n",
    "\n",
    "Note that the value could be of any data type. Let's take it to the next level with the next example:\n",
    "\n",
    "```python\n",
    "student_grades = {'Magnus': [77.0, 82.4, 81.5, 67.0, 75.8],\n",
    "                  'Percy': [80.2, 84.2, 87.1, 86.3, 81.4],\n",
    "                  'Carter': [90.2, 93.5, 91.7, 95.0, 94.3],\n",
    "                  'Jason': [89.0, 91.3, 92.5, 96.2, 88.7]}\n",
    "```"
   ]
  },
  {
   "cell_type": "code",
   "execution_count": 28,
   "metadata": {
    "collapsed": true
   },
   "outputs": [],
   "source": [
    "# compute the average grade for each student and print the result."
   ]
  },
  {
   "cell_type": "markdown",
   "metadata": {},
   "source": [
    "### Using Modules\n",
    "One of the core strenghts of Python is its wide array of modules/libraries. To use this, all we need to do is call the modules that you need into the notebook.  \n",
    "Example: We want to compute the square root of 5. To do this, we will import the math library in python.\n",
    "```python\n",
    "import math\n",
    "\n",
    "math.sqrt(5)\n",
    "```\n",
    "\n",
    "And that's it!"
   ]
  },
  {
   "cell_type": "code",
   "execution_count": 17,
   "metadata": {
    "collapsed": false
   },
   "outputs": [
    {
     "name": "stdout",
     "output_type": "stream",
     "text": [
      "asdf\n"
     ]
    }
   ],
   "source": [
    "print('asdf')"
   ]
  },
  {
   "cell_type": "code",
   "execution_count": null,
   "metadata": {
    "collapsed": true
   },
   "outputs": [],
   "source": []
  }
 ],
 "metadata": {
  "anaconda-cloud": {},
  "kernelspec": {
   "display_name": "Python [default]",
   "language": "python",
   "name": "python3"
  },
  "language_info": {
   "codemirror_mode": {
    "name": "ipython",
    "version": 3
   },
   "file_extension": ".py",
   "mimetype": "text/x-python",
   "name": "python",
   "nbconvert_exporter": "python",
   "pygments_lexer": "ipython3",
   "version": "3.5.2"
  },
  "nbpresent": {
   "slides": {
    "4267d117-a1b4-48e4-89bd-c206c4f804ee": {
     "id": "4267d117-a1b4-48e4-89bd-c206c4f804ee",
     "prev": "fd4b937b-6af7-4daa-9ed9-713a70038a28",
     "regions": {
      "015fa70f-0167-47b0-ac59-aae0337d94ba": {
       "attrs": {
        "height": 0.8,
        "width": 0.8,
        "x": 0.1,
        "y": 0.1
       },
       "content": {
        "cell": "67c49c3a-6b7c-4fea-bd25-97eedebc2826",
        "part": "whole"
       },
       "id": "015fa70f-0167-47b0-ac59-aae0337d94ba"
      }
     }
    },
    "44664f97-3905-4300-ab06-3d769e43dbe9": {
     "id": "44664f97-3905-4300-ab06-3d769e43dbe9",
     "prev": "4267d117-a1b4-48e4-89bd-c206c4f804ee",
     "regions": {
      "cc4c1feb-3e89-4579-bcf5-a70b9145267c": {
       "attrs": {
        "height": 0.8,
        "width": 0.8,
        "x": 0.1,
        "y": 0.1
       },
       "content": {
        "cell": "5a266f61-9144-463d-a5fe-87583bd222f7",
        "part": "whole"
       },
       "id": "cc4c1feb-3e89-4579-bcf5-a70b9145267c"
      }
     }
    },
    "619e5cef-3c34-4db4-9805-2358129b5f54": {
     "id": "619e5cef-3c34-4db4-9805-2358129b5f54",
     "prev": "67f809d7-189d-4afa-bf8f-395b25e5472f",
     "regions": {
      "58171c64-5e4f-4bf9-ab2c-c14bc2591d4a": {
       "attrs": {
        "height": 0.8,
        "width": 0.8,
        "x": 0.1,
        "y": 0.1
       },
       "content": {
        "cell": "d100d272-c36a-47ee-99ab-dad3de5d0035",
        "part": "whole"
       },
       "id": "58171c64-5e4f-4bf9-ab2c-c14bc2591d4a"
      }
     }
    },
    "67f809d7-189d-4afa-bf8f-395b25e5472f": {
     "id": "67f809d7-189d-4afa-bf8f-395b25e5472f",
     "prev": "d6924aac-25a1-408c-be94-b679862973f4",
     "regions": {
      "1f59e83b-8e63-4ad0-967b-24e29ae4d61b": {
       "attrs": {
        "height": 0.8,
        "width": 0.8,
        "x": 0.1,
        "y": 0.1
       },
       "id": "1f59e83b-8e63-4ad0-967b-24e29ae4d61b"
      }
     }
    },
    "905a1f4c-6f93-4fdf-83c6-a32b1aa6f882": {
     "id": "905a1f4c-6f93-4fdf-83c6-a32b1aa6f882",
     "prev": "cd8e8156-b2c7-4832-b4ad-d53b9e70e09f",
     "regions": {
      "05bb0abf-f9ad-4263-8f7e-94dceeadc176": {
       "attrs": {
        "height": 0.8,
        "width": 0.8,
        "x": 0.1,
        "y": 0.1
       },
       "content": {
        "cell": "24f2bd0d-64f0-47c0-afeb-b921d9f435ca",
        "part": "whole"
       },
       "id": "05bb0abf-f9ad-4263-8f7e-94dceeadc176"
      }
     }
    },
    "cd8e8156-b2c7-4832-b4ad-d53b9e70e09f": {
     "id": "cd8e8156-b2c7-4832-b4ad-d53b9e70e09f",
     "prev": null,
     "regions": {}
    },
    "d6924aac-25a1-408c-be94-b679862973f4": {
     "id": "d6924aac-25a1-408c-be94-b679862973f4",
     "prev": "44664f97-3905-4300-ab06-3d769e43dbe9",
     "regions": {
      "9983a776-0477-4573-ae5f-3c69d00c8d1a": {
       "attrs": {
        "height": 1,
        "width": 1,
        "x": 0,
        "y": 0
       },
       "id": "9983a776-0477-4573-ae5f-3c69d00c8d1a"
      }
     }
    },
    "fd4b937b-6af7-4daa-9ed9-713a70038a28": {
     "id": "fd4b937b-6af7-4daa-9ed9-713a70038a28",
     "prev": "905a1f4c-6f93-4fdf-83c6-a32b1aa6f882",
     "regions": {}
    }
   },
   "themes": {}
  }
 },
 "nbformat": 4,
 "nbformat_minor": 0
}
