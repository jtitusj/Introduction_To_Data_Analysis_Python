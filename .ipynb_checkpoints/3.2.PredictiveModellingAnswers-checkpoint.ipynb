{
 "cells": [
  {
   "cell_type": "markdown",
   "metadata": {},
   "source": [
    "## A brief intro to machine learning\n",
    "\n",
    "There's a fair bit of backround knowledge that's important to know before we dive into the code. The actual code is rather simple, but I want you to understand exactly what's going on.\n",
    "\n",
    "### What is machine learning?\n",
    "\n",
    "Machine learning is the study and application of algorithms that learn from examples. It's concerned with constructing systems that learn from data, systems that can then make future predictions based on past input. It's based on the ideas of representation and generalization: the representation of relationships within the data, and the ability to generalize those relationships to new data. This means that we can create a model that will learn something from the data that we have, and then apply what it learns to data that it hasn't seen before. Machine learning provides a way to build executable data summaries; it helps us build better software by predicting more accurately on future inputs.\n",
    "\n",
    "### Why is it useful?\n",
    "\n",
    "This is an important topic because machine learning is everywhere. For example, your email spam filter is already trained to mark certain emails as spam, based on things like frequency of capital letters or number of suspicious links within an email. If a spam email does get through to your inbox and you manually mark it as spam, your spam filter learns from that input, and will mark similar emails as spam in the future. Another example is Netflix's recommender system. The more movies you rate on Netflix, the more that the recommender system learns what kind of movies you like to watch. The system will then get better at recommending to you appropriate movie choices. Machine learning is especially useful in data analysis.\n",
    "\n",
    "### Some terms\n",
    "\n",
    "- observation/instance/data point: these all mean the same thing, and that is one particular piece of the data that we can grab information about and learn relationships from.\n",
    "- label/class: in classification, the label/class is what we aim to classify our new data as. Ex: email as spam or not spam.\n",
    "- feature: features describe the data. Features of email spam could be number of capital letter or frequency of known spam words.\n",
    "- categorical: discrete and finite data; has categories. Ex. spam or not spam.\n",
    "- continuous: subset of real numbers, can take on any value between two points. Ex. temperature degrees.\n",
    "\n",
    "### Types of machine learning\n",
    "\n",
    "#### Supervised\n",
    "Supervised learning is machine learning that makes use of labeled data. Supervised learning algorithms can use past observations to make future predictions on both categorical and continuous data. The two main types of supervised learning are classification and regression. Classification predicts labels, such as spam or not spam. Regression predicts the relationship between continuous variables, such as the relationship between temperature and elevation.\n",
    "\n",
    "#### Unsupervised\n",
    "Unsupervised learning is used when the data is unlabeled. You might not know what you're looking for within your data, and unsupervised learning can help you figure it out. Clustering is an example of unsupervised learning, where data instances are grouped together in a way that observations in the same group are more similar to each other than to those in other groups. Another example is dimensionality reduction, where the number of random variables is reduced, and is used for both feature selection and feature extraction.\n",
    "\n",
    "## What is scikit-learn?\n",
    "Scikit-learn is an open-source machine learning module. The scikit-learn project is constantly being developed and improved, and it has a very active user community. The documentation on the website is very thorough with plenty of examples, and there are a number of tutorials and guides for learning how scikit-learn works.\n",
    "\n",
    "### Why scikit-learn?\n",
    "You might be wondering why you'd want to use Python and scikit-learn, rather than other popular tools like MATLAB or R. Because scikit-learn is open source, it's free to use! Also, it's currently the most comprehensive machine learning tool for Python. There are also a number of Python libraries that work well with scikit-learn and extend its capabilities. \n",
    "\n",
    "## About this section\n",
    "We're going to cover supervised learning due to time constraints. We'll talk about a few classifiers as well as linear regression. For the final lesson of this section, we'll use the three classifiers we learn about, k-nearest neighbor, decision trees, and the Naive Bayes classifier, on our census_data dataset. We'll then compare the classifiers and see which one is better for our data.\n",
    "\n",
    "## Let's start with classification\n",
    "Classification, again, classifies data into specific categories, and solves the task of figuring out which category new data belong to. There are many different kinds of classifiers, and which one you want to use depends on your data. We're only going to be covering k-Nearest Neighbors (kNN) and the Naive Bayes classifier (NB) because they're among the simplest to implement and understand.\n",
    "\n",
    "For both algorithms, I'll walk you through simple examples of each, so that you'll have an idea of how they work. I'll also show you how to evaluate the models we create.\n",
    "\n",
    "Something important to notice in my examples is that when we train, we use a different dataset than when we predict. This is to avoid the problem of overfitting. So, what's overfitting? Well, let's say we train our model on the entire dataset. If we want to also test with that dataset, we won't be able to get an accurate picture of how good our model is, because now it knows our entire dataset by heart. This is why we split up our sets.\n",
    "\n",
    "## k-Nearest Neighbors\n",
    "\n",
    "The k-Nearest Neighbors (kNN) algorithm finds a predetermined number of \"neighbor\" samples that are closest in distance to a starting data point and makes predictions based on the distances. kNN predicts labels by looking at the labels of its nearest neighbors. The metric used to calcuate the distances between points can be any distance metric measure, such as the Euclidean metric or the Manhattan distance.\n",
    "\n",
    "kNN is useful when your data is linear in nature and can therefore be measured with a distance metric. Also, kNN does well when the decision boundary (or the delineation between classes) is hard to identify. \n",
    "\n",
    "kNN comes with a couple of caveats. If the classes in your dataset are unevenly distributed, the highest-occuring label will tend to dominate predictions. Also, choosing the *k* of kNN can be tricky. Choosing *k* deserves its own three hour tutorial, so we'll just go with the defaults for today.\n",
    "\n",
    "### Classifying in scikit-learn: kNN\n",
    "\n",
    "As we go through these examples, you'll notice that the basic fitting and predicting process is basically the same, which is one of the things that makes scikit-learn relatively easy to use.\n",
    "\n",
    "Let's start by reading in some data and its labels, and then split it up so we don't overfit. The default split for the `train_test_split()` function is 0.25, meaning that 75% of the data is split into the training set and %25 is split into the test set. If you want a different split, that's something that can be changed."
   ]
  },
  {
   "cell_type": "code",
   "execution_count": 2,
   "metadata": {
    "collapsed": false
   },
   "outputs": [
    {
     "data": {
      "text/plain": [
       "'/Users/User/Documents/JupyterNotebooks/Introduction_To_Data_Analysis_Python'"
      ]
     },
     "execution_count": 2,
     "metadata": {},
     "output_type": "execute_result"
    }
   ],
   "source": [
    "pwd"
   ]
  },
  {
   "cell_type": "code",
   "execution_count": 5,
   "metadata": {
    "collapsed": false
   },
   "outputs": [],
   "source": [
    "import pandas as pd\n",
    "from sklearn.cross_validation import train_test_split\n",
    "\n",
    "wine_data = pd.read_csv('data/wine_data.csv')\n",
    "wine_labels = pd.read_csv('data/wine_labels.csv', squeeze=True)\n",
    "\n",
    "wine_data_train, wine_data_test, wine_labels_train, wine_labels_test = train_test_split(wine_data, wine_labels)"
   ]
  },
  {
   "cell_type": "markdown",
   "metadata": {},
   "source": [
    "Scikit-learn can actually understand `DataFrames`, and can use them as input. Here's what one row from `wine_data_train` looks like, which is a `DataFrame`."
   ]
  },
  {
   "cell_type": "code",
   "execution_count": 6,
   "metadata": {
    "collapsed": false
   },
   "outputs": [
    {
     "data": {
      "text/html": [
       "<div>\n",
       "<table border=\"1\" class=\"dataframe\">\n",
       "  <thead>\n",
       "    <tr style=\"text-align: right;\">\n",
       "      <th></th>\n",
       "      <th>abv</th>\n",
       "      <th>malic_acid</th>\n",
       "      <th>ash</th>\n",
       "      <th>alcalinity</th>\n",
       "      <th>magnesium</th>\n",
       "      <th>total_phenols</th>\n",
       "      <th>flavanoids</th>\n",
       "      <th>nonflavanoid_phenols</th>\n",
       "      <th>proanthocyacins</th>\n",
       "      <th>color</th>\n",
       "      <th>hue</th>\n",
       "      <th>dilution</th>\n",
       "      <th>proline</th>\n",
       "    </tr>\n",
       "  </thead>\n",
       "  <tbody>\n",
       "    <tr>\n",
       "      <th>90</th>\n",
       "      <td>12.08</td>\n",
       "      <td>1.83</td>\n",
       "      <td>2.32</td>\n",
       "      <td>18.5</td>\n",
       "      <td>81</td>\n",
       "      <td>1.6</td>\n",
       "      <td>1.5</td>\n",
       "      <td>0.52</td>\n",
       "      <td>1.64</td>\n",
       "      <td>2.4</td>\n",
       "      <td>1.08</td>\n",
       "      <td>2.27</td>\n",
       "      <td>480</td>\n",
       "    </tr>\n",
       "  </tbody>\n",
       "</table>\n",
       "</div>"
      ],
      "text/plain": [
       "      abv  malic_acid   ash  alcalinity  magnesium  total_phenols  flavanoids  \\\n",
       "90  12.08        1.83  2.32        18.5         81            1.6         1.5   \n",
       "\n",
       "    nonflavanoid_phenols  proanthocyacins  color   hue  dilution  proline  \n",
       "90                  0.52             1.64    2.4  1.08      2.27      480  "
      ]
     },
     "execution_count": 6,
     "metadata": {},
     "output_type": "execute_result"
    }
   ],
   "source": [
    "wine_data_train[:1]"
   ]
  },
  {
   "cell_type": "markdown",
   "metadata": {},
   "source": [
    "Let's compare the lengths of the original `DataFrame` and the training set."
   ]
  },
  {
   "cell_type": "code",
   "execution_count": 8,
   "metadata": {
    "collapsed": false
   },
   "outputs": [
    {
     "name": "stdout",
     "output_type": "stream",
     "text": [
      "178 133\n"
     ]
    }
   ],
   "source": [
    "print(len(wine_data), len(wine_data_train))"
   ]
  },
  {
   "cell_type": "markdown",
   "metadata": {},
   "source": [
    "Now we can fit kNN to our training data. This is pretty easy. We create our estimator object and then use the fit() function to fit the algorithm to our data."
   ]
  },
  {
   "cell_type": "code",
   "execution_count": 9,
   "metadata": {
    "collapsed": false
   },
   "outputs": [
    {
     "data": {
      "text/plain": [
       "KNeighborsClassifier(algorithm='auto', leaf_size=30, metric='minkowski',\n",
       "           metric_params=None, n_jobs=1, n_neighbors=5, p=2,\n",
       "           weights='uniform')"
      ]
     },
     "execution_count": 9,
     "metadata": {},
     "output_type": "execute_result"
    }
   ],
   "source": [
    "from sklearn.neighbors import KNeighborsClassifier\n",
    "\n",
    "knn = KNeighborsClassifier()\n",
    "knn.fit(wine_data_train, wine_labels_train)"
   ]
  },
  {
   "cell_type": "markdown",
   "metadata": {},
   "source": [
    "And finally, let's use our fitted model to predict on new data."
   ]
  },
  {
   "cell_type": "code",
   "execution_count": 10,
   "metadata": {
    "collapsed": false
   },
   "outputs": [
    {
     "data": {
      "text/plain": [
       "array([2, 2, 1, 2, 1, 3, 2, 1, 2, 2, 2, 3, 2, 2, 2, 1, 1, 3, 1, 2, 2, 1, 3,\n",
       "       1, 1, 2, 1, 1, 2, 2, 3, 3, 2, 3, 3, 2, 2, 3, 2, 1, 2, 1, 2, 1, 1])"
      ]
     },
     "execution_count": 10,
     "metadata": {},
     "output_type": "execute_result"
    }
   ],
   "source": [
    "knn.predict(wine_data_test)"
   ]
  },
  {
   "cell_type": "markdown",
   "metadata": {},
   "source": [
    "Let's look at the real labels."
   ]
  },
  {
   "cell_type": "code",
   "execution_count": 11,
   "metadata": {
    "collapsed": false
   },
   "outputs": [
    {
     "data": {
      "text/plain": [
       "117    2\n",
       "99     2\n",
       "168    3\n",
       "135    3\n",
       "1      1\n",
       "96     2\n",
       "166    3\n",
       "68     2\n",
       "75     2\n",
       "167    3\n",
       "63     2\n",
       "81     2\n",
       "61     2\n",
       "91     2\n",
       "146    3\n",
       "26     1\n",
       "13     1\n",
       "170    3\n",
       "35     1\n",
       "116    2\n",
       "126    2\n",
       "27     1\n",
       "101    2\n",
       "95     2\n",
       "42     1\n",
       "125    2\n",
       "15     1\n",
       "48     1\n",
       "124    2\n",
       "128    2\n",
       "77     2\n",
       "62     2\n",
       "36     1\n",
       "172    3\n",
       "139    3\n",
       "94     2\n",
       "85     2\n",
       "84     2\n",
       "108    2\n",
       "18     1\n",
       "121    2\n",
       "46     1\n",
       "76     2\n",
       "20     1\n",
       "31     1\n",
       "Name: wine_type, dtype: int64"
      ]
     },
     "execution_count": 11,
     "metadata": {},
     "output_type": "execute_result"
    }
   ],
   "source": [
    "wine_labels_test"
   ]
  },
  {
   "cell_type": "markdown",
   "metadata": {},
   "source": [
    "You can see that there are some differences between the predictions and the actual labels. Let's actually calculate how accurate our classifier is. We can do that using cross-validation. Cross-validation is a method that takes a dataset, randomly splits it into training and test sets, and computes how accurate the model is by checking it against the real labels. It does this multiple times, and splits the dataset differently each time. \n",
    "\n",
    "The `cross_val_score()` function takes several parameters. The first is the model you've fitted (in this case it's knn), the second is the entire dataset, the second is the entire list of labels, and if you'd like you can specify how many times you want to cross-validate (the cv parameter)."
   ]
  },
  {
   "cell_type": "code",
   "execution_count": 12,
   "metadata": {
    "collapsed": false
   },
   "outputs": [
    {
     "data": {
      "text/plain": [
       "array([ 0.7027027 ,  0.66666667,  0.63888889,  0.65714286,  0.76470588])"
      ]
     },
     "execution_count": 12,
     "metadata": {},
     "output_type": "execute_result"
    }
   ],
   "source": [
    "from sklearn.cross_validation import cross_val_score\n",
    "\n",
    "cross_val_score(knn, wine_data, wine_labels, cv=5)"
   ]
  },
  {
   "cell_type": "markdown",
   "metadata": {},
   "source": [
    "So our model is approximately 70% accurate. That's not so great, but you get the idea."
   ]
  },
  {
   "cell_type": "markdown",
   "metadata": {},
   "source": [
    "## Lesson: classification with kNN!"
   ]
  },
  {
   "cell_type": "code",
   "execution_count": 13,
   "metadata": {
    "collapsed": false
   },
   "outputs": [],
   "source": [
    "# We're going to be using scikit-learn's built in datasets for this.\n",
    "\n",
    "from sklearn.datasets import load_iris\n",
    "\n",
    "iris = load_iris()\n",
    "iris_data = iris.data\n",
    "iris_labels = iris.target\n",
    "\n",
    "# Can you split the data into training and test sets?\n",
    "\n",
    "iris_data_train, iris_data_test, iris_labels_train, iris_labels_test = train_test_split(iris_data, iris_labels)"
   ]
  },
  {
   "cell_type": "code",
   "execution_count": 14,
   "metadata": {
    "collapsed": false
   },
   "outputs": [
    {
     "data": {
      "text/plain": [
       "KNeighborsClassifier(algorithm='auto', leaf_size=30, metric='minkowski',\n",
       "           metric_params=None, n_jobs=1, n_neighbors=5, p=2,\n",
       "           weights='uniform')"
      ]
     },
     "execution_count": 14,
     "metadata": {},
     "output_type": "execute_result"
    }
   ],
   "source": [
    "# Now, let's use the training data and labels to train our model.\n",
    "\n",
    "knn_iris = KNeighborsClassifier()\n",
    "knn_iris.fit(iris_data_train, iris_labels_train)"
   ]
  },
  {
   "cell_type": "code",
   "execution_count": 15,
   "metadata": {
    "collapsed": false
   },
   "outputs": [
    {
     "data": {
      "text/plain": [
       "array([2, 0, 1, 2, 2, 1, 1, 1, 2, 1, 1, 2, 2, 2, 2, 2, 2, 0, 1, 2, 2, 1, 2,\n",
       "       1, 2, 1, 2, 0, 0, 1, 1, 0, 0, 1, 2, 2, 2, 2])"
      ]
     },
     "execution_count": 15,
     "metadata": {},
     "output_type": "execute_result"
    }
   ],
   "source": [
    "# And now, let's predict on our test set.\n",
    "\n",
    "knn_iris.predict(iris_data_test)"
   ]
  },
  {
   "cell_type": "code",
   "execution_count": 16,
   "metadata": {
    "collapsed": false
   },
   "outputs": [
    {
     "data": {
      "text/plain": [
       "array([2, 0, 1, 2, 1, 1, 1, 1, 2, 1, 1, 2, 2, 2, 2, 2, 2, 0, 1, 2, 2, 1, 2,\n",
       "       1, 2, 1, 2, 0, 0, 1, 1, 0, 0, 1, 2, 2, 2, 2])"
      ]
     },
     "execution_count": 16,
     "metadata": {},
     "output_type": "execute_result"
    }
   ],
   "source": [
    "# Let's compare the predictions to the actual labels. Output the real labels.\n",
    "\n",
    "iris_labels_test"
   ]
  },
  {
   "cell_type": "code",
   "execution_count": 17,
   "metadata": {
    "collapsed": false
   },
   "outputs": [
    {
     "data": {
      "text/plain": [
       "array([ 0.98039216,  0.98039216,  1.        ])"
      ]
     },
     "execution_count": 17,
     "metadata": {},
     "output_type": "execute_result"
    }
   ],
   "source": [
    "# Let's score our model using cross-validation to see how good it is.\n",
    "\n",
    "cross_val_score(knn_iris, iris_data, iris_labels)"
   ]
  },
  {
   "cell_type": "markdown",
   "metadata": {},
   "source": [
    "## Decision trees\n",
    "\n",
    "Decision trees are predictive models that learn simple decision rules based on the features within a dataset. They map observations about an item to conclusions about the item's target value. Leaves represent class labels and branches represent conjunctions of features that lead to those class labels. Decision trees in machine learning are made of the same decision trees that are used in game theory or decision analysis. \n",
    "\n",
    "Decision trees are great for heterogeneous data, having the ability to handle both categorical and continuous data; however, they are fairly simple in nature and can lack the ability to capture rich relationships within a dataset.\n",
    "\n",
    "### Classifying in scikit-learn: decision trees\n",
    "\n",
    "We're going to basically do the same thing we just did, but with a different classifier."
   ]
  },
  {
   "cell_type": "code",
   "execution_count": 18,
   "metadata": {
    "collapsed": false
   },
   "outputs": [
    {
     "data": {
      "text/plain": [
       "array([2, 2, 3, 3, 1, 2, 3, 2, 3, 3, 2, 1, 3, 3, 3, 1, 1, 3, 1, 2, 2, 1, 2,\n",
       "       2, 1, 2, 1, 1, 2, 2, 2, 2, 1, 3, 3, 2, 2, 2, 2, 1, 2, 1, 2, 1, 1])"
      ]
     },
     "execution_count": 18,
     "metadata": {},
     "output_type": "execute_result"
    }
   ],
   "source": [
    "from sklearn.tree import DecisionTreeClassifier\n",
    "\n",
    "tree = DecisionTreeClassifier()\n",
    "tree.fit(wine_data_train, wine_labels_train)\n",
    "tree.predict(wine_data_test)"
   ]
  },
  {
   "cell_type": "markdown",
   "metadata": {},
   "source": [
    "Let's look at the real labels."
   ]
  },
  {
   "cell_type": "code",
   "execution_count": 19,
   "metadata": {
    "collapsed": false
   },
   "outputs": [
    {
     "data": {
      "text/plain": [
       "117    2\n",
       "99     2\n",
       "168    3\n",
       "135    3\n",
       "1      1\n",
       "96     2\n",
       "166    3\n",
       "68     2\n",
       "75     2\n",
       "167    3\n",
       "63     2\n",
       "81     2\n",
       "61     2\n",
       "91     2\n",
       "146    3\n",
       "26     1\n",
       "13     1\n",
       "170    3\n",
       "35     1\n",
       "116    2\n",
       "126    2\n",
       "27     1\n",
       "101    2\n",
       "95     2\n",
       "42     1\n",
       "125    2\n",
       "15     1\n",
       "48     1\n",
       "124    2\n",
       "128    2\n",
       "77     2\n",
       "62     2\n",
       "36     1\n",
       "172    3\n",
       "139    3\n",
       "94     2\n",
       "85     2\n",
       "84     2\n",
       "108    2\n",
       "18     1\n",
       "121    2\n",
       "46     1\n",
       "76     2\n",
       "20     1\n",
       "31     1\n",
       "Name: wine_type, dtype: int64"
      ]
     },
     "execution_count": 19,
     "metadata": {},
     "output_type": "execute_result"
    }
   ],
   "source": [
    "wine_labels_test"
   ]
  },
  {
   "cell_type": "markdown",
   "metadata": {},
   "source": [
    "And let's cross-validate again. Let's only run it four times."
   ]
  },
  {
   "cell_type": "code",
   "execution_count": 20,
   "metadata": {
    "collapsed": false
   },
   "outputs": [
    {
     "data": {
      "text/plain": [
       "array([ 0.82222222,  0.86666667,  0.93333333,  0.88372093])"
      ]
     },
     "execution_count": 20,
     "metadata": {},
     "output_type": "execute_result"
    }
   ],
   "source": [
    "cross_val_score(tree, wine_data, wine_labels, cv=4)"
   ]
  },
  {
   "cell_type": "markdown",
   "metadata": {},
   "source": [
    "This model is a much better fit for our dataset, and is much more accurate than k-nearest neighbors.\n",
    "\n",
    "## Lesson: classification with decision trees!"
   ]
  },
  {
   "cell_type": "code",
   "execution_count": 21,
   "metadata": {
    "collapsed": true
   },
   "outputs": [],
   "source": [
    "# We're going to be using scikit-learn's built in datasets for this.\n",
    "\n",
    "from sklearn.datasets import load_digits\n",
    "\n",
    "digits = load_digits()\n",
    "digits_data = digits.data\n",
    "digits_labels = digits.target\n",
    "\n",
    "# Once again, split the data into training and test sets.\n",
    "d_train, d_test, dl_train, dl_test = train_test_split(digits_data, digits_labels)"
   ]
  },
  {
   "cell_type": "code",
   "execution_count": 22,
   "metadata": {
    "collapsed": false
   },
   "outputs": [
    {
     "data": {
      "text/plain": [
       "DecisionTreeClassifier(class_weight=None, criterion='gini', max_depth=None,\n",
       "            max_features=None, max_leaf_nodes=None, min_samples_leaf=1,\n",
       "            min_samples_split=2, min_weight_fraction_leaf=0.0,\n",
       "            presort=False, random_state=None, splitter='best')"
      ]
     },
     "execution_count": 22,
     "metadata": {},
     "output_type": "execute_result"
    }
   ],
   "source": [
    "# Fit the model to our data.\n",
    "tree.fit(d_train, dl_train)"
   ]
  },
  {
   "cell_type": "code",
   "execution_count": 23,
   "metadata": {
    "collapsed": false
   },
   "outputs": [
    {
     "data": {
      "text/plain": [
       "array([1, 6, 9, 2, 9, 3, 9, 5, 3, 2, 4, 1, 9, 8, 0, 1, 7, 4, 5, 3, 8, 6, 6,\n",
       "       6, 5, 7, 9, 9, 7, 2, 1, 2, 0, 2, 2, 9, 4, 7, 7, 9, 3, 0, 1, 3, 7, 5,\n",
       "       1, 2, 2, 2, 3, 3, 1, 2, 3, 2, 2, 8, 6, 3, 3, 4, 0, 1, 3, 4, 6, 4, 8,\n",
       "       2, 9, 1, 1, 1, 3, 6, 2, 2, 9, 2, 6, 9, 5, 0, 7, 8, 2, 6, 2, 5, 9, 5,\n",
       "       8, 3, 1, 2, 4, 3, 9, 0, 9, 1, 2, 8, 8, 4, 7, 5, 2, 4, 4, 3, 5, 9, 8,\n",
       "       4, 1, 5, 7, 4, 8, 5, 7, 2, 4, 4, 9, 5, 7, 8, 3, 1, 5, 6, 4, 7, 9, 0,\n",
       "       1, 6, 4, 4, 2, 8, 1, 5, 5, 9, 7, 7, 2, 9, 0, 0, 7, 5, 1, 2, 1, 8, 9,\n",
       "       3, 6, 8, 2, 5, 5, 7, 0, 6, 0, 7, 5, 0, 5, 0, 0, 3, 1, 5, 6, 9, 5, 2,\n",
       "       6, 1, 6, 0, 9, 2, 5, 7, 5, 4, 4, 4, 5, 4, 3, 0, 0, 6, 5, 9, 7, 4, 3,\n",
       "       6, 5, 0, 3, 2, 4, 4, 2, 1, 4, 4, 8, 3, 9, 0, 3, 5, 0, 2, 4, 0, 8, 3,\n",
       "       0, 8, 9, 1, 9, 9, 9, 5, 1, 8, 6, 1, 6, 0, 6, 3, 7, 1, 2, 0, 9, 0, 1,\n",
       "       9, 9, 6, 6, 9, 6, 4, 9, 0, 3, 8, 1, 9, 1, 3, 2, 1, 9, 9, 0, 8, 3, 4,\n",
       "       7, 3, 4, 5, 1, 1, 6, 5, 3, 9, 3, 7, 0, 6, 9, 9, 9, 3, 0, 9, 7, 9, 6,\n",
       "       3, 1, 6, 3, 7, 6, 2, 5, 3, 2, 1, 3, 2, 4, 5, 3, 3, 3, 9, 6, 0, 3, 8,\n",
       "       1, 4, 9, 1, 2, 7, 2, 3, 5, 7, 8, 3, 1, 6, 9, 3, 0, 2, 5, 8, 5, 6, 7,\n",
       "       2, 7, 4, 2, 3, 7, 4, 6, 4, 2, 9, 7, 8, 7, 3, 2, 3, 0, 5, 4, 8, 8, 3,\n",
       "       5, 2, 3, 5, 5, 4, 4, 5, 4, 1, 4, 5, 8, 5, 3, 8, 0, 8, 5, 1, 6, 0, 8,\n",
       "       9, 4, 7, 9, 8, 2, 1, 8, 0, 0, 4, 3, 5, 1, 0, 8, 0, 6, 2, 5, 9, 1, 6,\n",
       "       3, 9, 9, 2, 3, 3, 5, 9, 8, 8, 4, 0, 9, 3, 3, 6, 0, 2, 5, 8, 4, 0, 0,\n",
       "       4, 6, 6, 5, 5, 5, 1, 9, 0, 4, 7, 4, 4])"
      ]
     },
     "execution_count": 23,
     "metadata": {},
     "output_type": "execute_result"
    }
   ],
   "source": [
    "# Predict on the test set\n",
    "tree.predict(d_test)"
   ]
  },
  {
   "cell_type": "code",
   "execution_count": 24,
   "metadata": {
    "collapsed": false
   },
   "outputs": [
    {
     "data": {
      "text/plain": [
       "array([1, 6, 0, 2, 9, 3, 3, 5, 1, 2, 4, 2, 9, 8, 0, 1, 7, 4, 5, 3, 4, 6, 6,\n",
       "       6, 5, 7, 9, 8, 7, 2, 1, 2, 8, 2, 2, 9, 4, 7, 7, 9, 3, 0, 4, 3, 7, 5,\n",
       "       1, 2, 2, 2, 3, 8, 1, 2, 8, 2, 8, 8, 6, 3, 3, 4, 0, 3, 3, 4, 6, 7, 8,\n",
       "       2, 9, 1, 3, 1, 3, 6, 2, 2, 9, 2, 6, 9, 5, 0, 7, 8, 2, 6, 2, 5, 9, 5,\n",
       "       3, 3, 1, 2, 4, 5, 9, 0, 9, 1, 2, 8, 7, 4, 8, 5, 8, 4, 4, 3, 5, 9, 8,\n",
       "       4, 1, 5, 7, 4, 1, 5, 7, 2, 9, 4, 9, 5, 7, 8, 3, 1, 9, 6, 7, 7, 0, 0,\n",
       "       6, 6, 5, 1, 2, 8, 1, 5, 7, 9, 3, 7, 8, 9, 0, 0, 7, 5, 1, 2, 1, 8, 9,\n",
       "       3, 6, 8, 2, 1, 5, 7, 0, 6, 0, 7, 5, 0, 5, 0, 0, 3, 1, 5, 6, 9, 5, 2,\n",
       "       6, 1, 6, 0, 9, 2, 5, 7, 5, 4, 4, 4, 5, 4, 3, 0, 0, 6, 3, 9, 7, 4, 3,\n",
       "       6, 5, 0, 3, 1, 4, 4, 2, 2, 4, 6, 0, 8, 3, 0, 3, 5, 0, 2, 4, 0, 4, 3,\n",
       "       0, 8, 9, 1, 9, 9, 9, 5, 1, 8, 6, 1, 6, 0, 6, 3, 7, 1, 2, 0, 9, 0, 9,\n",
       "       9, 9, 6, 6, 9, 6, 4, 9, 0, 3, 8, 3, 9, 1, 3, 2, 1, 9, 4, 0, 4, 8, 4,\n",
       "       7, 3, 4, 5, 1, 1, 6, 5, 3, 9, 3, 7, 0, 6, 3, 9, 9, 3, 0, 9, 7, 9, 6,\n",
       "       3, 8, 6, 8, 7, 6, 2, 3, 3, 2, 1, 3, 2, 6, 5, 3, 3, 3, 9, 6, 0, 3, 8,\n",
       "       2, 4, 9, 1, 2, 7, 2, 3, 5, 7, 8, 3, 1, 6, 9, 3, 0, 2, 2, 1, 5, 1, 7,\n",
       "       1, 4, 4, 2, 3, 7, 4, 6, 4, 2, 9, 7, 3, 7, 3, 2, 7, 0, 5, 1, 8, 8, 3,\n",
       "       5, 2, 3, 5, 5, 4, 4, 5, 4, 1, 9, 2, 8, 5, 3, 8, 0, 8, 5, 1, 6, 0, 8,\n",
       "       9, 8, 7, 8, 8, 2, 7, 8, 0, 0, 4, 1, 5, 1, 0, 8, 0, 6, 2, 5, 9, 1, 6,\n",
       "       3, 9, 9, 2, 3, 3, 5, 9, 8, 3, 4, 0, 9, 3, 3, 6, 0, 2, 5, 8, 4, 0, 0,\n",
       "       4, 6, 6, 5, 5, 5, 9, 9, 0, 4, 7, 4, 4])"
      ]
     },
     "execution_count": 24,
     "metadata": {},
     "output_type": "execute_result"
    }
   ],
   "source": [
    "# Look at the test set labels\n",
    "dl_test"
   ]
  },
  {
   "cell_type": "code",
   "execution_count": 25,
   "metadata": {
    "collapsed": false
   },
   "outputs": [
    {
     "data": {
      "text/plain": [
       "array([ 0.76373626,  0.72651934,  0.79665738,  0.82913165,  0.7943662 ])"
      ]
     },
     "execution_count": 25,
     "metadata": {},
     "output_type": "execute_result"
    }
   ],
   "source": [
    "# Finally, cross-validate\n",
    "cross_val_score(tree, digits_data, digits_labels, cv=5)"
   ]
  },
  {
   "cell_type": "markdown",
   "metadata": {},
   "source": [
    "## Naive Bayes\n",
    "\n",
    "The Naive Bayes classifier is a probabilistic classifier based on Bayes' Theorem, which states that the probability of *A* given the probability of *B* is equal to the probability of *B* given *A* times the probability of *A*, divided by the probability of *B*. In Naive Bayes classification, the classifier assumes that the features in your dataset are independent of each other; that is, one feature being a certain way has no effect on what values the other features take. This is a naive assumption because this doesn't always hold true in reality, but despite this naivety and oversimplified assumptions, the classifier performs decently and even quite well in certain classification situations.\n",
    "\n",
    "The Naive Bayes classifier is useful when your features are independent and your data is normally distributed. More sophisticated methods generally perform better.\n",
    "\n",
    "### Classifying in scikit-learn: Naive Bayes\n",
    "\n",
    "Just as we did the first two times, let's do it again. We're going to use the GaussianNB estimator object, because our data is for the most part normally distributed. We're also going to use the same wine training and test sets we made earlier."
   ]
  },
  {
   "cell_type": "code",
   "execution_count": 26,
   "metadata": {
    "collapsed": false
   },
   "outputs": [
    {
     "data": {
      "text/plain": [
       "array([2, 2, 3, 3, 1, 2, 3, 2, 2, 3, 2, 2, 3, 2, 3, 1, 1, 3, 1, 2, 2, 1, 2,\n",
       "       2, 1, 2, 1, 1, 2, 2, 2, 2, 1, 3, 3, 2, 2, 2, 2, 1, 2, 1, 2, 1, 1])"
      ]
     },
     "execution_count": 26,
     "metadata": {},
     "output_type": "execute_result"
    }
   ],
   "source": [
    "from sklearn.naive_bayes import GaussianNB\n",
    "\n",
    "gnb = GaussianNB()\n",
    "gnb.fit(wine_data_train, wine_labels_train)\n",
    "gnb.predict(wine_data_test)"
   ]
  },
  {
   "cell_type": "markdown",
   "metadata": {},
   "source": [
    "Well, that was easy! Let's look at the real test labels again."
   ]
  },
  {
   "cell_type": "code",
   "execution_count": 27,
   "metadata": {
    "collapsed": false
   },
   "outputs": [
    {
     "data": {
      "text/plain": [
       "117    2\n",
       "99     2\n",
       "168    3\n",
       "135    3\n",
       "1      1\n",
       "96     2\n",
       "166    3\n",
       "68     2\n",
       "75     2\n",
       "167    3\n",
       "63     2\n",
       "81     2\n",
       "61     2\n",
       "91     2\n",
       "146    3\n",
       "26     1\n",
       "13     1\n",
       "170    3\n",
       "35     1\n",
       "116    2\n",
       "126    2\n",
       "27     1\n",
       "101    2\n",
       "95     2\n",
       "42     1\n",
       "125    2\n",
       "15     1\n",
       "48     1\n",
       "124    2\n",
       "128    2\n",
       "77     2\n",
       "62     2\n",
       "36     1\n",
       "172    3\n",
       "139    3\n",
       "94     2\n",
       "85     2\n",
       "84     2\n",
       "108    2\n",
       "18     1\n",
       "121    2\n",
       "46     1\n",
       "76     2\n",
       "20     1\n",
       "31     1\n",
       "Name: wine_type, dtype: int64"
      ]
     },
     "execution_count": 27,
     "metadata": {},
     "output_type": "execute_result"
    }
   ],
   "source": [
    "wine_labels_test"
   ]
  },
  {
   "cell_type": "markdown",
   "metadata": {},
   "source": [
    "And of course, let's cross-validate to see how well we did. Let's only run it four times."
   ]
  },
  {
   "cell_type": "code",
   "execution_count": 28,
   "metadata": {
    "collapsed": false
   },
   "outputs": [
    {
     "data": {
      "text/plain": [
       "array([ 0.91111111,  0.95555556,  0.97777778,  1.        ])"
      ]
     },
     "execution_count": 28,
     "metadata": {},
     "output_type": "execute_result"
    }
   ],
   "source": [
    "cross_val_score(gnb, wine_data, wine_labels, cv=4)"
   ]
  },
  {
   "cell_type": "markdown",
   "metadata": {},
   "source": [
    "Wow! This classifier does much better on this dataset."
   ]
  },
  {
   "cell_type": "markdown",
   "metadata": {},
   "source": [
    "## Lesson: classification with Naive Bayes!"
   ]
  },
  {
   "cell_type": "code",
   "execution_count": 29,
   "metadata": {
    "collapsed": false
   },
   "outputs": [
    {
     "data": {
      "text/plain": [
       "GaussianNB()"
      ]
     },
     "execution_count": 29,
     "metadata": {},
     "output_type": "execute_result"
    }
   ],
   "source": [
    "# Let's use our digits dataset from above. Use the training and test sets you created for this example.\n",
    "# Fit the model to the data.\n",
    "gnb.fit(d_train, dl_train)"
   ]
  },
  {
   "cell_type": "code",
   "execution_count": 30,
   "metadata": {
    "collapsed": false
   },
   "outputs": [
    {
     "data": {
      "text/plain": [
       "array([1, 6, 0, 2, 9, 3, 3, 5, 8, 1, 4, 1, 7, 9, 0, 1, 7, 7, 5, 3, 4, 6, 6,\n",
       "       6, 5, 7, 9, 8, 7, 2, 1, 2, 8, 8, 2, 1, 4, 7, 7, 1, 3, 0, 4, 3, 7, 5,\n",
       "       1, 8, 2, 2, 3, 7, 1, 2, 8, 8, 8, 8, 6, 3, 3, 4, 0, 3, 3, 4, 6, 7, 8,\n",
       "       2, 9, 1, 3, 1, 3, 6, 8, 2, 9, 2, 6, 3, 5, 0, 7, 8, 1, 6, 2, 5, 9, 5,\n",
       "       8, 7, 1, 1, 4, 5, 3, 0, 6, 1, 2, 8, 7, 4, 7, 8, 1, 4, 4, 3, 5, 9, 8,\n",
       "       7, 1, 5, 7, 7, 8, 5, 7, 2, 9, 4, 9, 1, 7, 8, 3, 1, 1, 6, 7, 7, 0, 0,\n",
       "       6, 6, 5, 1, 2, 8, 1, 5, 7, 9, 7, 7, 8, 9, 0, 0, 7, 5, 1, 5, 1, 8, 9,\n",
       "       8, 6, 8, 2, 1, 5, 7, 0, 6, 0, 7, 5, 0, 5, 0, 0, 3, 1, 5, 6, 9, 5, 2,\n",
       "       6, 1, 6, 0, 9, 8, 5, 7, 5, 4, 4, 4, 5, 4, 3, 0, 0, 6, 8, 9, 7, 4, 2,\n",
       "       6, 5, 0, 3, 1, 4, 4, 8, 2, 4, 6, 0, 5, 8, 0, 3, 5, 0, 2, 2, 0, 1, 3,\n",
       "       0, 8, 9, 1, 9, 9, 9, 5, 1, 8, 6, 8, 6, 0, 6, 3, 7, 1, 8, 0, 8, 0, 9,\n",
       "       9, 9, 6, 6, 9, 6, 4, 9, 0, 3, 8, 8, 9, 1, 3, 2, 1, 5, 4, 0, 7, 1, 4,\n",
       "       7, 3, 4, 5, 1, 1, 6, 5, 3, 9, 3, 7, 0, 6, 2, 9, 7, 3, 0, 7, 7, 1, 6,\n",
       "       3, 1, 6, 8, 7, 6, 2, 3, 3, 2, 1, 3, 2, 6, 5, 3, 3, 3, 9, 6, 0, 3, 1,\n",
       "       1, 1, 9, 1, 8, 7, 2, 3, 5, 7, 8, 3, 1, 6, 9, 3, 0, 2, 5, 1, 5, 1, 7,\n",
       "       8, 7, 4, 8, 3, 7, 4, 6, 4, 2, 2, 7, 7, 7, 3, 1, 7, 0, 5, 1, 1, 8, 8,\n",
       "       5, 1, 3, 5, 5, 4, 4, 5, 4, 1, 7, 2, 8, 5, 3, 1, 0, 1, 5, 1, 6, 0, 8,\n",
       "       9, 7, 7, 8, 8, 2, 9, 8, 0, 0, 7, 1, 5, 1, 0, 8, 0, 6, 2, 5, 9, 1, 6,\n",
       "       3, 9, 8, 2, 8, 3, 5, 9, 1, 3, 4, 0, 9, 3, 3, 6, 0, 8, 5, 8, 4, 0, 0,\n",
       "       4, 6, 6, 5, 5, 5, 9, 7, 0, 4, 7, 7, 4])"
      ]
     },
     "execution_count": 30,
     "metadata": {},
     "output_type": "execute_result"
    }
   ],
   "source": [
    "# Predict on the test set\n",
    "gnb.predict(d_test)"
   ]
  },
  {
   "cell_type": "code",
   "execution_count": 31,
   "metadata": {
    "collapsed": false
   },
   "outputs": [
    {
     "data": {
      "text/plain": [
       "array([1, 6, 0, 2, 9, 3, 3, 5, 1, 2, 4, 2, 9, 8, 0, 1, 7, 4, 5, 3, 4, 6, 6,\n",
       "       6, 5, 7, 9, 8, 7, 2, 1, 2, 8, 2, 2, 9, 4, 7, 7, 9, 3, 0, 4, 3, 7, 5,\n",
       "       1, 2, 2, 2, 3, 8, 1, 2, 8, 2, 8, 8, 6, 3, 3, 4, 0, 3, 3, 4, 6, 7, 8,\n",
       "       2, 9, 1, 3, 1, 3, 6, 2, 2, 9, 2, 6, 9, 5, 0, 7, 8, 2, 6, 2, 5, 9, 5,\n",
       "       3, 3, 1, 2, 4, 5, 9, 0, 9, 1, 2, 8, 7, 4, 8, 5, 8, 4, 4, 3, 5, 9, 8,\n",
       "       4, 1, 5, 7, 4, 1, 5, 7, 2, 9, 4, 9, 5, 7, 8, 3, 1, 9, 6, 7, 7, 0, 0,\n",
       "       6, 6, 5, 1, 2, 8, 1, 5, 7, 9, 3, 7, 8, 9, 0, 0, 7, 5, 1, 2, 1, 8, 9,\n",
       "       3, 6, 8, 2, 1, 5, 7, 0, 6, 0, 7, 5, 0, 5, 0, 0, 3, 1, 5, 6, 9, 5, 2,\n",
       "       6, 1, 6, 0, 9, 2, 5, 7, 5, 4, 4, 4, 5, 4, 3, 0, 0, 6, 3, 9, 7, 4, 3,\n",
       "       6, 5, 0, 3, 1, 4, 4, 2, 2, 4, 6, 0, 8, 3, 0, 3, 5, 0, 2, 4, 0, 4, 3,\n",
       "       0, 8, 9, 1, 9, 9, 9, 5, 1, 8, 6, 1, 6, 0, 6, 3, 7, 1, 2, 0, 9, 0, 9,\n",
       "       9, 9, 6, 6, 9, 6, 4, 9, 0, 3, 8, 3, 9, 1, 3, 2, 1, 9, 4, 0, 4, 8, 4,\n",
       "       7, 3, 4, 5, 1, 1, 6, 5, 3, 9, 3, 7, 0, 6, 3, 9, 9, 3, 0, 9, 7, 9, 6,\n",
       "       3, 8, 6, 8, 7, 6, 2, 3, 3, 2, 1, 3, 2, 6, 5, 3, 3, 3, 9, 6, 0, 3, 8,\n",
       "       2, 4, 9, 1, 2, 7, 2, 3, 5, 7, 8, 3, 1, 6, 9, 3, 0, 2, 2, 1, 5, 1, 7,\n",
       "       1, 4, 4, 2, 3, 7, 4, 6, 4, 2, 9, 7, 3, 7, 3, 2, 7, 0, 5, 1, 8, 8, 3,\n",
       "       5, 2, 3, 5, 5, 4, 4, 5, 4, 1, 9, 2, 8, 5, 3, 8, 0, 8, 5, 1, 6, 0, 8,\n",
       "       9, 8, 7, 8, 8, 2, 7, 8, 0, 0, 4, 1, 5, 1, 0, 8, 0, 6, 2, 5, 9, 1, 6,\n",
       "       3, 9, 9, 2, 3, 3, 5, 9, 8, 3, 4, 0, 9, 3, 3, 6, 0, 2, 5, 8, 4, 0, 0,\n",
       "       4, 6, 6, 5, 5, 5, 9, 9, 0, 4, 7, 4, 4])"
      ]
     },
     "execution_count": 31,
     "metadata": {},
     "output_type": "execute_result"
    }
   ],
   "source": [
    "# Look at the test set labels\n",
    "dl_test"
   ]
  },
  {
   "cell_type": "code",
   "execution_count": 32,
   "metadata": {
    "collapsed": false
   },
   "outputs": [
    {
     "data": {
      "text/plain": [
       "array([ 0.78296703,  0.78176796,  0.79387187,  0.86554622,  0.8084507 ])"
      ]
     },
     "execution_count": 32,
     "metadata": {},
     "output_type": "execute_result"
    }
   ],
   "source": [
    "# Finally, cross-validate\n",
    "cross_val_score(gnb, digits_data, digits_labels, cv=5)"
   ]
  },
  {
   "cell_type": "markdown",
   "metadata": {},
   "source": [
    "## Linear regression\n",
    "\n",
    "Linear regression is used when the target value is expected to be a linear combination of the input variables. The goal of linear regression, in creating a linear model, is to minimize the sum of squared residuals between the observed data and the responses predicted by linear approximation. Linear regression can be used to represent the relationship between variables like temperature and elevation, or something like housing prices and square footage.\n",
    "\n",
    "Linear regression is appropriate when your data is continuous and linear.\n",
    "\n",
    "### Linear regression in scikit-learn\n",
    "\n",
    "Let's try this on subset of our wine data, since those values are continuous other than `wine_type`. Let's see what the relationship is between magnesium and abv. First, let's subset the data."
   ]
  },
  {
   "cell_type": "code",
   "execution_count": 33,
   "metadata": {
    "collapsed": false
   },
   "outputs": [
    {
     "data": {
      "text/html": [
       "<div>\n",
       "<table border=\"1\" class=\"dataframe\">\n",
       "  <thead>\n",
       "    <tr style=\"text-align: right;\">\n",
       "      <th></th>\n",
       "      <th>magnesium</th>\n",
       "      <th>color</th>\n",
       "    </tr>\n",
       "  </thead>\n",
       "  <tbody>\n",
       "    <tr>\n",
       "      <th>0</th>\n",
       "      <td>127</td>\n",
       "      <td>5.64</td>\n",
       "    </tr>\n",
       "    <tr>\n",
       "      <th>1</th>\n",
       "      <td>100</td>\n",
       "      <td>4.38</td>\n",
       "    </tr>\n",
       "    <tr>\n",
       "      <th>2</th>\n",
       "      <td>101</td>\n",
       "      <td>5.68</td>\n",
       "    </tr>\n",
       "    <tr>\n",
       "      <th>3</th>\n",
       "      <td>113</td>\n",
       "      <td>7.80</td>\n",
       "    </tr>\n",
       "    <tr>\n",
       "      <th>4</th>\n",
       "      <td>118</td>\n",
       "      <td>4.32</td>\n",
       "    </tr>\n",
       "  </tbody>\n",
       "</table>\n",
       "</div>"
      ],
      "text/plain": [
       "   magnesium  color\n",
       "0        127   5.64\n",
       "1        100   4.38\n",
       "2        101   5.68\n",
       "3        113   7.80\n",
       "4        118   4.32"
      ]
     },
     "execution_count": 33,
     "metadata": {},
     "output_type": "execute_result"
    }
   ],
   "source": [
    "wine_data_mag = wine_data.loc[:, ['magnesium', 'color']]\n",
    "wine_data_abv = wine_data.loc[:, 'abv']\n",
    "wine_data_mag.head()"
   ]
  },
  {
   "cell_type": "markdown",
   "metadata": {},
   "source": [
    "And, as always, let's split up the data. Our target values are going to be the continuous abv values."
   ]
  },
  {
   "cell_type": "code",
   "execution_count": 34,
   "metadata": {
    "collapsed": false
   },
   "outputs": [],
   "source": [
    "wine_mag_train, wine_mag_test, wine_abv_train, wine_abv_test = train_test_split(wine_data_mag, wine_data_abv)"
   ]
  },
  {
   "cell_type": "markdown",
   "metadata": {},
   "source": [
    "Then, we fit the model to our data."
   ]
  },
  {
   "cell_type": "code",
   "execution_count": 35,
   "metadata": {
    "collapsed": false
   },
   "outputs": [
    {
     "data": {
      "text/plain": [
       "LinearRegression(copy_X=True, fit_intercept=True, n_jobs=1, normalize=False)"
      ]
     },
     "execution_count": 35,
     "metadata": {},
     "output_type": "execute_result"
    }
   ],
   "source": [
    "from sklearn.linear_model import LinearRegression\n",
    "\n",
    "lr = LinearRegression()\n",
    "lr.fit(wine_mag_train, wine_abv_train)"
   ]
  },
  {
   "cell_type": "markdown",
   "metadata": {},
   "source": [
    "And finally, we predict."
   ]
  },
  {
   "cell_type": "code",
   "execution_count": 36,
   "metadata": {
    "collapsed": false
   },
   "outputs": [
    {
     "data": {
      "text/plain": [
       "array([ 12.39729862,  14.23908932,  13.09370336,  12.90710333,\n",
       "        14.19247325,  13.16151034,  12.95655776,  12.53533023,\n",
       "        13.02046004,  13.79004799,  13.23445313,  13.11429323,\n",
       "        12.44989195,  13.3948912 ,  12.8368787 ,  13.36390952,\n",
       "        12.30352554,  12.26033334,  12.90017993,  12.46651701,\n",
       "        13.14736303,  14.5451881 ,  13.1464169 ,  14.01676143,\n",
       "        12.67056801,  13.66219888,  13.41153181,  12.4587076 ,\n",
       "        12.32582734,  12.53994064,  12.51224706,  13.1425122 ,\n",
       "        12.09999992,  12.40895263,  13.14476508,  12.29968094,\n",
       "        12.90521108,  12.6627586 ,  12.5279861 ,  12.52746071,\n",
       "        12.60418799,  13.97457546,  12.52029689,  13.44554774,  13.03077831])"
      ]
     },
     "execution_count": 36,
     "metadata": {},
     "output_type": "execute_result"
    }
   ],
   "source": [
    "lr.predict(wine_mag_test)"
   ]
  },
  {
   "cell_type": "markdown",
   "metadata": {},
   "source": [
    "Let's compare those predictions to the actual abv values."
   ]
  },
  {
   "cell_type": "code",
   "execution_count": 37,
   "metadata": {
    "collapsed": false
   },
   "outputs": [
    {
     "data": {
      "text/plain": [
       "101    12.60\n",
       "151    12.79\n",
       "42     13.88\n",
       "29     14.02\n",
       "175    13.27\n",
       "19     13.64\n",
       "134    12.51\n",
       "79     12.70\n",
       "35     13.48\n",
       "169    13.40\n",
       "161    13.69\n",
       "131    12.88\n",
       "114    12.08\n",
       "147    12.87\n",
       "37     13.05\n",
       "0      14.23\n",
       "103    11.82\n",
       "82     12.08\n",
       "26     13.39\n",
       "104    12.51\n",
       "61     12.64\n",
       "158    14.34\n",
       "30     13.73\n",
       "176    13.17\n",
       "126    12.43\n",
       "3      14.37\n",
       "16     14.30\n",
       "97     12.29\n",
       "90     12.08\n",
       "127    11.79\n",
       "118    12.77\n",
       "2      13.16\n",
       "89     12.08\n",
       "123    13.05\n",
       "45     14.21\n",
       "59     12.37\n",
       "65     12.37\n",
       "81     12.72\n",
       "107    12.72\n",
       "85     12.67\n",
       "91     12.00\n",
       "149    13.08\n",
       "113    11.41\n",
       "17     13.83\n",
       "69     12.21\n",
       "Name: abv, dtype: float64"
      ]
     },
     "execution_count": 37,
     "metadata": {},
     "output_type": "execute_result"
    }
   ],
   "source": [
    "wine_abv_test"
   ]
  },
  {
   "cell_type": "markdown",
   "metadata": {},
   "source": [
    "We can check the accuracy of our linear regression model by using the `score()` function. The `score()` function returns the R^2 coefficient, which is a measure of how far away from the actual values are predictions were. The closer to 1, the better the regression model"
   ]
  },
  {
   "cell_type": "code",
   "execution_count": 38,
   "metadata": {
    "collapsed": false
   },
   "outputs": [
    {
     "data": {
      "text/plain": [
       "0.37968429966372641"
      ]
     },
     "execution_count": 38,
     "metadata": {},
     "output_type": "execute_result"
    }
   ],
   "source": [
    "lr.score(wine_mag_test, wine_abv_test)"
   ]
  },
  {
   "cell_type": "markdown",
   "metadata": {},
   "source": [
    "So our score is rather low.\n",
    "\n",
    "## Lesson: linear regression!"
   ]
  },
  {
   "cell_type": "code",
   "execution_count": 39,
   "metadata": {
    "collapsed": false
   },
   "outputs": [],
   "source": [
    "# We're going to be using scikit-learn's built in datasets for this.\n",
    "\n",
    "from sklearn.datasets import load_boston\n",
    "\n",
    "boston = load_boston()\n",
    "boston_data = boston.data\n",
    "boston_target = boston.target\n",
    "\n",
    "# Once again, split the data into training and test sets.\n",
    "b_train, b_test, bl_train, bl_test = train_test_split(boston_data, boston_target)"
   ]
  },
  {
   "cell_type": "code",
   "execution_count": 40,
   "metadata": {
    "collapsed": false
   },
   "outputs": [
    {
     "data": {
      "text/plain": [
       "LinearRegression(copy_X=True, fit_intercept=True, n_jobs=1, normalize=False)"
      ]
     },
     "execution_count": 40,
     "metadata": {},
     "output_type": "execute_result"
    }
   ],
   "source": [
    "# Create a new linear regression model and fit the model to our data.\n",
    "lreg = LinearRegression()\n",
    "lreg.fit(b_train, bl_train)"
   ]
  },
  {
   "cell_type": "code",
   "execution_count": 41,
   "metadata": {
    "collapsed": false
   },
   "outputs": [
    {
     "data": {
      "text/plain": [
       "array([ 22.54963924,  18.11850385,  16.94637907,  28.0144128 ,\n",
       "        19.53682403,  20.69049401,  22.1397217 ,  20.34791852,\n",
       "        20.17248239,  12.87762735,  21.60878925,  29.0567116 ,\n",
       "        22.57588029,  37.29600095,  16.31327596,  16.57717879,\n",
       "        39.99698953,  16.06366823,  31.0005647 ,  21.79976187,\n",
       "        19.81761198,  22.40184196,  17.84909188,  40.33140131,\n",
       "        34.73570358,  39.6397664 ,  29.38529475,   0.89604703,\n",
       "        10.13072875,  13.08219721,  20.39718007,  17.24311345,\n",
       "        14.90366137,  20.32316553,  17.67966447,  22.09996054,\n",
       "         3.34140375,  14.20055723,  25.10580928,  24.59809371,\n",
       "        34.3779775 ,  24.08623227,  29.13353502,  15.18022771,\n",
       "        31.55754623,  25.52431172,  20.75839657,  27.33461493,\n",
       "        24.9066689 ,  19.65881433,  20.35859573,  25.34602159,\n",
       "        15.35749128,  11.46493297,  16.63776334,  24.0355013 ,\n",
       "        24.76239833,  18.96718657,  17.78696794,  13.51337202,\n",
       "        29.80796344,  17.68554382,  20.43575335,  18.79187032,\n",
       "        19.18845215,  16.50430092,  22.89668277,  20.82887774,\n",
       "        17.34621174,  25.63563112,  36.42377782,  16.51747239,\n",
       "        22.39908724,  15.51973061,  34.11954493,  27.12860831,\n",
       "        19.48818039,  13.38538833,  21.17907504,  23.66591917,\n",
       "        35.71844423,  18.83382389,  18.25996978,  19.70072475,\n",
       "        31.31067585,  19.23359618,  30.43051837,  28.25857772,\n",
       "        25.24069753,  15.12340842,  31.19967207,  29.77106317,\n",
       "        19.11644616,  10.81940412,  17.00163287,  13.39697147,\n",
       "        39.31406143,  20.59825073,  17.03701105,  16.69609411,\n",
       "        20.12804989,  13.74197936,  19.3539022 ,  19.25687801,\n",
       "        30.05121091,  16.70032272,  23.19619279,  19.43868544,\n",
       "        25.40995458,  24.32909059,  23.11195159,  18.60481407,\n",
       "        11.65930613,  29.76690425,  28.04097086,  21.60965975,\n",
       "        27.47272207,  35.28036444,  22.87319031,  31.60903694,\n",
       "        20.56183257,  28.62153875,  22.26296387,  17.10845715,\n",
       "        12.96530307,  19.25138278,  31.77341618])"
      ]
     },
     "execution_count": 41,
     "metadata": {},
     "output_type": "execute_result"
    }
   ],
   "source": [
    "# Predict on the test set.\n",
    "lreg.predict(b_test)"
   ]
  },
  {
   "cell_type": "code",
   "execution_count": 42,
   "metadata": {
    "collapsed": false
   },
   "outputs": [
    {
     "data": {
      "text/plain": [
       "0.76980946400778705"
      ]
     },
     "execution_count": 42,
     "metadata": {},
     "output_type": "execute_result"
    }
   ],
   "source": [
    "# Score the model!\n",
    "lreg.score(b_test, bl_test)"
   ]
  }
 ],
 "metadata": {
  "kernelspec": {
   "display_name": "Python [default]",
   "language": "python",
   "name": "python3"
  },
  "language_info": {
   "codemirror_mode": {
    "name": "ipython",
    "version": 3
   },
   "file_extension": ".py",
   "mimetype": "text/x-python",
   "name": "python",
   "nbconvert_exporter": "python",
   "pygments_lexer": "ipython3",
   "version": "3.5.2"
  }
 },
 "nbformat": 4,
 "nbformat_minor": 0
}
