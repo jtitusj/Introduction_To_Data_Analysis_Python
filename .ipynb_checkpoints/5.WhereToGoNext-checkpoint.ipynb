{
 "cells": [
  {
   "cell_type": "markdown",
   "metadata": {
    "collapsed": true
   },
   "source": [
    "# Where to go next?\n",
    "\n",
    "### Online Resources\n",
    "\n",
    "1. [Learn Python Basics In A Day](https://www.codecademy.com/learn/python)\n",
    "\n",
    "2. [Python Online Course](https://www.coursera.org/learn/python) If enough people are interested, we can start an a discussion group and go through this Course.\n",
    "\n",
    "Once you get the hang of python, we can then proceed to online courses on Python For Statistics, Machine Learning and Data Science through [Coursera](https://www.coursera.org) and [EdX](https://www.edx.org).\n",
    "\n",
    "For programming problems or errors you don't understand, you can also go to [StackOverFlow](https://www.stackoverflow.com)\n",
    "\n",
    "### Join Meetups\n",
    "1. [PizzaPY](https://www.meetup.com/PizzaPy-PH/) is a meetup community composed of Python users and enthusiasts.\n",
    "2. [Cebu Data Science and Big Data Meetup](https://www.meetup.com/cebu_datascience_bigdata/) is a meetup community for those who are interested in learning about Data Science. We welcome anyone who wants to join. And we always have free food.\n",
    "\n",
    "For more info, we can talk after the seminar."
   ]
  },
  {
   "cell_type": "code",
   "execution_count": null,
   "metadata": {
    "collapsed": true
   },
   "outputs": [],
   "source": []
  }
 ],
 "metadata": {
  "anaconda-cloud": {},
  "kernelspec": {
   "display_name": "Python [default]",
   "language": "python",
   "name": "python3"
  },
  "language_info": {
   "codemirror_mode": {
    "name": "ipython",
    "version": 3
   },
   "file_extension": ".py",
   "mimetype": "text/x-python",
   "name": "python",
   "nbconvert_exporter": "python",
   "pygments_lexer": "ipython3",
   "version": "3.5.2"
  }
 },
 "nbformat": 4,
 "nbformat_minor": 1
}
