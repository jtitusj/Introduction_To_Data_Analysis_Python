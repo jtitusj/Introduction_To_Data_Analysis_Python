{
 "cells": [
  {
   "cell_type": "markdown",
   "metadata": {},
   "source": [
    "# Exploratory Data Analysis\n",
    "Who wants to share their idea on what Exploratory Data Analysis means? :)\n",
    "\n",
    "One of the most important steps in extracting value from data is performing Exploratory Data Analysis.  \n",
    "In fact, much of the time spent (roughly 50%) in data analytics focuses on Exploratory Data Analysis.\n",
    "\n",
    "What do we do in Exploratory Data Analysis?\n",
    "1. **Examine Descriptive statistics** such as mean, median, mode, range, standard deviation.\n",
    "2. **Look at correlations.**\n",
    "3. **Loot at data distributions.**\n",
    "4. **Create Visualizations** to find trends in the data.\n",
    "\n",
    "Other ideas?"
   ]
  },
  {
   "cell_type": "markdown",
   "metadata": {},
   "source": [
    "### Why Pandas?\n",
    "\n",
    "Pandas is a Data Analysis Library in Python. Some of its inspiration is taken from the programming language R which is another language that is widely used for data analysis. Now, while R excels in data analysis, it has a steeper learning curve which make it difficult for beginners to learn. Now some developers wanted to solve this issue and their solution was to develop a data analysis library in a language that is much easier to learn. Hence, Pandas.\n",
    "\n",
    "To load the pandas library into our notebooks, we do:\n",
    "\n",
    "```python\n",
    "import pandas as pd\n",
    "```\n",
    "\n",
    "Notice that we add the words `as pd`. When we do this, we are **aliasing**. That is, instead of typing `pandas`, we just need to type `pd` which is easier."
   ]
  },
  {
   "cell_type": "markdown",
   "metadata": {},
   "source": [
    "### Reading Data from Files"
   ]
  },
  {
   "cell_type": "markdown",
   "metadata": {},
   "source": [
    "### Descriptive Statistics"
   ]
  },
  {
   "cell_type": "markdown",
   "metadata": {},
   "source": [
    "### Looking for Correlations"
   ]
  },
  {
   "cell_type": "markdown",
   "metadata": {},
   "source": [
    "### Visualizing Data"
   ]
  },
  {
   "cell_type": "code",
   "execution_count": null,
   "metadata": {
    "collapsed": true
   },
   "outputs": [],
   "source": []
  }
 ],
 "metadata": {
  "anaconda-cloud": {},
  "kernelspec": {
   "display_name": "Python [default]",
   "language": "python",
   "name": "python3"
  },
  "language_info": {
   "codemirror_mode": {
    "name": "ipython",
    "version": 3
   },
   "file_extension": ".py",
   "mimetype": "text/x-python",
   "name": "python",
   "nbconvert_exporter": "python",
   "pygments_lexer": "ipython3",
   "version": "3.5.2"
  }
 },
 "nbformat": 4,
 "nbformat_minor": 1
}
